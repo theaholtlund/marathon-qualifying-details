{
 "cells": [
  {
   "cell_type": "markdown",
   "id": "e65f307e",
   "metadata": {},
   "source": [
    "# Marathon Qualifying Times Notebook Version"
   ]
  },
  {
   "cell_type": "code",
   "execution_count": null,
   "id": "50bb5724",
   "metadata": {},
   "outputs": [],
   "source": [
    "# Import required libraries\n",
    "import os\n",
    "import requests\n",
    "from bs4 import BeautifulSoup\n",
    "import pandas as pd\n",
    "from dotenv import load_dotenv\n",
    "import pyodbc\n"
   ]
  },
  {
   "cell_type": "code",
   "execution_count": null,
   "id": "bb7e287f",
   "metadata": {},
   "outputs": [],
   "source": [
    "# Define target URL and headers to mimic Chrome on macOS\n",
    "url = \"https://www.londonmarathonevents.co.uk/london-marathon/good-age-entry\"\n",
    "headers = {\n",
    "    \"User-Agent\": (\n",
    "        \"Mozilla/5.0 (Macintosh; Intel Mac OS X 14_5) \"\n",
    "        \"AppleWebKit/537.36 (KHTML, like Gecko) \"\n",
    "        \"Chrome/122.0.0.0 Safari/537.36\"\n",
    "    )\n",
    "}\n",
    "\n",
    "# Fetch page content\n",
    "response = requests.get(url, headers=headers)\n",
    "soup = BeautifulSoup(response.content, \"html.parser\")\n"
   ]
  }
 ],
 "metadata": {
  "kernelspec": {
   "display_name": "venv",
   "language": "python",
   "name": "python3"
  },
  "language_info": {
   "codemirror_mode": {
    "name": "ipython",
    "version": 3
   },
   "file_extension": ".py",
   "mimetype": "text/x-python",
   "name": "python",
   "nbconvert_exporter": "python",
   "pygments_lexer": "ipython3",
   "version": "3.8.18"
  }
 },
 "nbformat": 4,
 "nbformat_minor": 5
}
