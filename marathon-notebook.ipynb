{
 "cells": [
  {
   "cell_type": "markdown",
   "id": "e65f307e",
   "metadata": {},
   "source": [
    "# Marathon Qualifying Times Notebook Version"
   ]
  },
  {
   "cell_type": "code",
   "execution_count": 3,
   "id": "50bb5724",
   "metadata": {},
   "outputs": [],
   "source": [
    "# Import required libraries\n",
    "import requests\n",
    "import pandas as pd\n",
    "from bs4 import BeautifulSoup\n"
   ]
  }
 ],
 "metadata": {
  "kernelspec": {
   "display_name": "venv",
   "language": "python",
   "name": "python3"
  },
  "language_info": {
   "codemirror_mode": {
    "name": "ipython",
    "version": 3
   },
   "file_extension": ".py",
   "mimetype": "text/x-python",
   "name": "python",
   "nbconvert_exporter": "python",
   "pygments_lexer": "ipython3",
   "version": "3.8.18"
  }
 },
 "nbformat": 4,
 "nbformat_minor": 5
}
